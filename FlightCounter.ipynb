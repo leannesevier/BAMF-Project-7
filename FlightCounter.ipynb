{
 "cells": [
  {
   "cell_type": "code",
   "execution_count": 1,
   "metadata": {},
   "outputs": [
    {
     "ename": "FileNotFoundError",
     "evalue": "[Errno 2] No such file or directory: '../JSON/Historic_Request_ATL_20171222_14.json'",
     "output_type": "error",
     "traceback": [
      "\u001b[1;31m---------------------------------------------------------------------------\u001b[0m",
      "\u001b[1;31mFileNotFoundError\u001b[0m                         Traceback (most recent call last)",
      "\u001b[1;32m<ipython-input-1-d0c7aa8f746c>\u001b[0m in \u001b[0;36m<module>\u001b[1;34m\u001b[0m\n\u001b[0;32m      5\u001b[0m \u001b[1;33m\u001b[0m\u001b[0m\n\u001b[0;32m      6\u001b[0m \u001b[0mfilepath\u001b[0m \u001b[1;33m=\u001b[0m \u001b[0mos\u001b[0m\u001b[1;33m.\u001b[0m\u001b[0mpath\u001b[0m\u001b[1;33m.\u001b[0m\u001b[0mjoin\u001b[0m\u001b[1;33m(\u001b[0m\u001b[1;34m\"../JSON/Historic_Request_ATL_20171222_14.json\"\u001b[0m\u001b[1;33m)\u001b[0m\u001b[1;33m\u001b[0m\u001b[1;33m\u001b[0m\u001b[0m\n\u001b[1;32m----> 7\u001b[1;33m \u001b[1;32mwith\u001b[0m \u001b[0mopen\u001b[0m\u001b[1;33m(\u001b[0m\u001b[0mfilepath\u001b[0m\u001b[1;33m)\u001b[0m \u001b[1;32mas\u001b[0m \u001b[0mjsonfile\u001b[0m\u001b[1;33m:\u001b[0m\u001b[1;33m\u001b[0m\u001b[1;33m\u001b[0m\u001b[0m\n\u001b[0m\u001b[0;32m      8\u001b[0m     \u001b[0matl20180122_json\u001b[0m \u001b[1;33m=\u001b[0m \u001b[0mjson\u001b[0m\u001b[1;33m.\u001b[0m\u001b[0mload\u001b[0m\u001b[1;33m(\u001b[0m\u001b[0mjsonfile\u001b[0m\u001b[1;33m)\u001b[0m\u001b[1;33m\u001b[0m\u001b[1;33m\u001b[0m\u001b[0m\n\u001b[0;32m      9\u001b[0m \u001b[1;33m\u001b[0m\u001b[0m\n",
      "\u001b[1;31mFileNotFoundError\u001b[0m: [Errno 2] No such file or directory: '../JSON/Historic_Request_ATL_20171222_14.json'"
     ]
    }
   ],
   "source": [
    "import pandas as pd\n",
    "import numpy as np\n",
    "import json\n",
    "import os\n",
    "\n",
    "filepath = os.path.join(\"../JSON/Historic_Request_ATL_20171222_14.json\")\n",
    "with open(filepath) as jsonfile:\n",
    "    atl20180122_json = json.load(jsonfile)\n",
    "    \n",
    "    "
   ]
  },
  {
   "cell_type": "code",
   "execution_count": null,
   "metadata": {},
   "outputs": [],
   "source": [
    "#isolate data items\n",
    "# Date Range A: Normal Operating Period 22nd Dec 2017 - 25th Jan 2018\n",
    "# Date Range B: Shutdown Operating Period 22nd Dec 2018 - 25th Jan 2019\n",
    "# Time Block: 2pm - 8pm\n",
    "# Carrier: Delta Airlines (DL)\n",
    "# Airports: MCO, ATL\n",
    "\n",
    "# Data Fields: airport code, date, carrier code, \n",
    "# Filter by departureGateDelayMinutes, actualGateDeparture\n",
    "\n",
    "# Need catch issue with departure date roll over where departure start time is less than departure end time\n",
    "# Need to identify duplicate flight across adjacent days\n",
    "# Example is Historic_Request_ATL_20190122_14.json flight 268\n",
    "\n",
    "data = atl20180122_json[\"request\"]\n",
    "flightstatuses = atl20180122_json[\"flightStatuses\"]\n",
    "\n",
    "ATL_20180122_flights_df = pd.DataFrame(index=np.arange(0, 0), columns=('Counter', 'ID', 'Carrier', 'Number', 'Airport', 'Date', 'Status', 'Scheduled Hour', 'Scheduled Mins', 'Actual Hour', 'Actual Mins', 'Delay') )\n",
    "\n",
    "Flight_Counter = 0\n",
    "Flights = []\n",
    "\n",
    "for getFlight in atl20180122_json['flightStatuses']:\n",
    "    Flight_Counter = Flight_Counter + 1\n",
    "    print(f\"Flight Counter: {Flight_Counter}\")\n",
    "    myFlightID = getFlight['flightId']\n",
    "    print(f\"FlightID: {myFlightID}\")\n",
    "    myFlightCarrier = getFlight['carrierFsCode']\n",
    "    print(f\"Carrier: {myFlightCarrier}\")\n",
    "    myFlightNum = getFlight['flightNumber']\n",
    "    print(f\"Flight#: {myFlightNum}\")\n",
    "    myFlightDepAirport = getFlight['departureAirportFsCode']\n",
    "    print(f\"Airport: {myFlightDepAirport}\")\n",
    "    myFlightDepDateTime = getFlight['departureDate']['dateLocal']\n",
    "    myFlightDepDate = myFlightDepDateTime.split(\"T\")[0]\n",
    "    print(f\"Date: {myFlightDepDate}\")\n",
    "    myFlightStatus = getFlight['status']\n",
    "    print(f\"Status: {myFlightStatus}\")\n",
    "    \n",
    "    try:\n",
    "        myFlightScheduledDep = getFlight['operationalTimes']['scheduledGateDeparture']['dateLocal']\n",
    "        myFlightScheduledDepTime = myFlightScheduledDep.split(\"T\")[1]\n",
    "        myFlightShedDepHour = myFlightScheduledDepTime.split(\":\")[0]\n",
    "        myFlightShedDepMinutes = myFlightScheduledDepTime.split(\":\")[1]\n",
    "        print(f\"Scheduled Dep Time: {myFlightScheduledDepTime} Hour: {myFlightShedDepHour} Minutes: {myFlightShedDepMinutes}\")\n",
    "    \n",
    "        myFlightActualDep = getFlight['operationalTimes']['actualGateDeparture']['dateLocal']\n",
    "        myFlightActualDepTime = myFlightActualDep.split(\"T\")[1]\n",
    "        myFlightActualDepHour = myFlightActualDepTime.split(\":\")[0]\n",
    "        myFlightActualDepMinutes = myFlightActualDepTime.split(\":\")[1]\n",
    "        print(f\"Actual Dep Time: {myFlightActualDepTime} Hour: {myFlightActualDepHour} Minutes: {myFlightActualDepMinutes}\")\n",
    "    \n",
    "        myFlightDepStartTime = (int(myFlightShedDepHour) * 60) + int(myFlightShedDepMinutes)\n",
    "        myFlightDepEndTime = (int(myFlightActualDepHour) * 60) + int(myFlightActualDepMinutes)\n",
    "        myFlightDelayMinutes = myFlightDepEndTime - myFlightDepStartTime\n",
    "        #print(f\"Start Time: {myFlightDepStartTime}\")\n",
    "        #print(f\"End Time: {myFlightDepEndTime}\")\n",
    "        print(f\"Delay (Minutes): {myFlightDelayMinutes}\")\n",
    "    except:\n",
    "        print(f\"No Gate Depature Delay Data\")\n",
    "        myFlightDelayMinutes = 0\n",
    "        print(f\"Delay (Minutes): {myFlightDelayMinutes}\")\n",
    "        \n",
    "    print(\"\\n\")\n",
    "    ATL_20180122_flights_df.loc[Flight_Counter] = [Flight_Counter, myFlightID, myFlightCarrier, myFlightNum, myFlightDepAirport, myFlightDepDate, myFlightStatus, myFlightShedDepHour, myFlightShedDepMinutes, myFlightActualDepHour, myFlightActualDepMinutes, myFlightDelayMinutes]\n"
   ]
  },
  {
   "cell_type": "code",
   "execution_count": null,
   "metadata": {},
   "outputs": [],
   "source": [
    "# Describe() for Date Range A\n",
    "print(ATL_20180122_flights_df)\n"
   ]
  },
  {
   "cell_type": "code",
   "execution_count": null,
   "metadata": {},
   "outputs": [],
   "source": [
    "# Describe() for Date Range B\n",
    "# Compare total number of flights, average flights per day\n",
    "\n",
    "# Plot average delay by hour in a random day during Date Range A\n",
    "# Plot average delay by hour in a random day during Date Range B"
   ]
  },
  {
   "cell_type": "code",
   "execution_count": null,
   "metadata": {},
   "outputs": [],
   "source": []
  },
  {
   "cell_type": "code",
   "execution_count": null,
   "metadata": {},
   "outputs": [],
   "source": []
  }
 ],
 "metadata": {
  "kernelspec": {
   "display_name": "Python [conda env:PythonData]",
   "language": "python",
   "name": "conda-env-PythonData-py"
  },
  "language_info": {
   "codemirror_mode": {
    "name": "ipython",
    "version": 3
   },
   "file_extension": ".py",
   "mimetype": "text/x-python",
   "name": "python",
   "nbconvert_exporter": "python",
   "pygments_lexer": "ipython3",
   "version": "3.6.7"
  }
 },
 "nbformat": 4,
 "nbformat_minor": 2
}
