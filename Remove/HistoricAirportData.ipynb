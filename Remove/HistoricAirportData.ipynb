{
 "cells": [
  {
   "cell_type": "code",
   "execution_count": 13,
   "metadata": {},
   "outputs": [],
   "source": [
    "# Dependencies\n",
    "import numpy as np\n",
    "import pandas as pd\n",
    "import matplotlib.pyplot as plt\n",
    "import requests\n",
    "import json\n",
    "\n",
    "\n",
    "\n",
    "# Cirium API Key\n",
    "from config2 import api_key\n",
    "from config2 import app_ID\n",
    "\n"
   ]
  },
  {
   "cell_type": "code",
   "execution_count": 14,
   "metadata": {},
   "outputs": [
    {
     "name": "stdout",
     "output_type": "stream",
     "text": [
      "https://api.flightstats.com/flex/delayindex/rest/v1/json/airports/MCO?appId=XXXXXXXX&appKey=XXXXXXXX&codeType=IATA&classification=1&score=1\n"
     ]
    }
   ],
   "source": [
    "# Request Current Delays\n",
    "# example url: \"https://api.flightstats.com/flex/delayindex/rest/v1/json/airports/MCO?appId=XXXXXXXXX&appKey=XXXXXXXX&codeType=IATA&classification=1&score=1\"\n",
    "\n",
    "base_url = \"https://api.flightstats.com/flex/delayindex/rest/v1/json/airports/\"\n",
    "airport_code = \"MCO\"\n",
    "app_IDcode = \"?appId=\"\n",
    "#app_ID\n",
    "app_KEYcode = \"&appKey=\"\n",
    "#api_key\n",
    "code_Type = \"&codeType=\"\n",
    "airport_code_type = \"IATA\"\n",
    "delay_class_code = \"&classification=\"\n",
    "delay_class = \"1\"\n",
    "delay_score_code = \"&score=\"\n",
    "delay_score = \"1\"\n",
    "\n",
    "airport_delay_query_url = base_url + airport_code + app_IDcode + app_ID + app_KEYcode + api_key + code_Type + airport_code_type + delay_class_code + delay_class + delay_score_code + delay_score\n",
    "\n",
    "print(airport_delay_query_url)\n"
   ]
  },
  {
   "cell_type": "code",
   "execution_count": 69,
   "metadata": {},
   "outputs": [
    {
     "name": "stdout",
     "output_type": "stream",
     "text": [
      "https://api.flightstats.com/flex/flightstatus/historical/rest/v3/json/airport/status/ATL/dep/2019/1/25/14?carrier=DL&codeType=IATA&utc=false&numHours=6&appId=XXXXXXXX&appKey=XXXXXXXX\n"
     ]
    }
   ],
   "source": [
    "# Request Historic Data\n",
    "# example by airport url: \"https://api.flightstats.com/flex/flightstatus/historical/rest/v3/json/airport/status/MCO/dep/2019/1/22/9?codeType=IATA&utc=false&numHours=6\"\n",
    "# example by airline url: \"https://api.flightstats.com/flex/flightstatus/historical/rest/v3/json/airport/status/MCO/dep/2017/12/22/14?carrier=DL&codeType=IATA&utc=false&numHours=6\"\n",
    "\n",
    "base_url = \"https://api.flightstats.com/flex/flightstatus/historical/rest/v3/json/airport/status/\"\n",
    "airport_code = \"ATL\"\n",
    "departure_code = \"dep/\"\n",
    "departure_year = \"2019\"\n",
    "breaker = \"/\"\n",
    "departure_month = \"1\"\n",
    "# breaker\n",
    "departure_day = \"25\"\n",
    "# breaker\n",
    "departure_hour = \"14\"\n",
    "carrier_code = \"?carrier=\"\n",
    "airline = \"DL\"\n",
    "code_Type = \"&codeType=\"\n",
    "airport_code_type = \"IATA\"\n",
    "utc_code = \"&utc=false\"\n",
    "hours_code = \"&numHours=\"\n",
    "hours = \"6\"\n",
    "app_IDcode = \"&appId=\"\n",
    "\n",
    "airport_history_query_url = base_url + airport_code + breaker + departure_code + departure_year + breaker + departure_month + breaker + departure_day + breaker + departure_hour + carrier_code + airline + code_Type + airport_code_type + utc_code + hours_code + hours + app_IDcode + app_ID + app_KEYcode + api_key\n",
    "\n",
    "print(airport_history_query_url)"
   ]
  },
  {
   "cell_type": "code",
   "execution_count": 70,
   "metadata": {},
   "outputs": [
    {
     "name": "stdout",
     "output_type": "stream",
     "text": [
      "Historic_Request_ATL_2019125_14.txt\n"
     ]
    },
    {
     "ename": "UnicodeEncodeError",
     "evalue": "'charmap' codec can't encode characters in position 1-5: character maps to <undefined>",
     "output_type": "error",
     "traceback": [
      "\u001b[1;31m---------------------------------------------------------------------------\u001b[0m",
      "\u001b[1;31mUnicodeEncodeError\u001b[0m                        Traceback (most recent call last)",
      "\u001b[1;32m<ipython-input-70-77aae1b0db92>\u001b[0m in \u001b[0;36m<module>\u001b[1;34m\u001b[0m\n\u001b[0;32m     10\u001b[0m \u001b[0mprint\u001b[0m\u001b[1;33m(\u001b[0m\u001b[0mtextfile\u001b[0m\u001b[1;33m)\u001b[0m\u001b[1;33m\u001b[0m\u001b[1;33m\u001b[0m\u001b[0m\n\u001b[0;32m     11\u001b[0m \u001b[1;32mwith\u001b[0m \u001b[0mopen\u001b[0m\u001b[1;33m(\u001b[0m\u001b[0mtextfile\u001b[0m\u001b[1;33m,\u001b[0m \u001b[1;34m'w'\u001b[0m\u001b[1;33m)\u001b[0m \u001b[1;32mas\u001b[0m \u001b[0mf\u001b[0m\u001b[1;33m:\u001b[0m\u001b[1;33m\u001b[0m\u001b[1;33m\u001b[0m\u001b[0m\n\u001b[1;32m---> 12\u001b[1;33m   \u001b[0mjson\u001b[0m\u001b[1;33m.\u001b[0m\u001b[0mdump\u001b[0m\u001b[1;33m(\u001b[0m\u001b[0mhistorical_flights_json\u001b[0m\u001b[1;33m,\u001b[0m \u001b[0mf\u001b[0m\u001b[1;33m,\u001b[0m \u001b[0mensure_ascii\u001b[0m\u001b[1;33m=\u001b[0m\u001b[1;32mFalse\u001b[0m\u001b[1;33m)\u001b[0m\u001b[1;33m\u001b[0m\u001b[1;33m\u001b[0m\u001b[0m\n\u001b[0m\u001b[0;32m     13\u001b[0m \u001b[1;33m\u001b[0m\u001b[0m\n\u001b[0;32m     14\u001b[0m \u001b[1;33m\u001b[0m\u001b[0m\n",
      "\u001b[1;32mD:\\Users\\Black\\Anaconda3\\envs\\PythonData2\\lib\\json\\__init__.py\u001b[0m in \u001b[0;36mdump\u001b[1;34m(obj, fp, skipkeys, ensure_ascii, check_circular, allow_nan, cls, indent, separators, default, sort_keys, **kw)\u001b[0m\n\u001b[0;32m    178\u001b[0m     \u001b[1;31m# a debuggability cost\u001b[0m\u001b[1;33m\u001b[0m\u001b[1;33m\u001b[0m\u001b[1;33m\u001b[0m\u001b[0m\n\u001b[0;32m    179\u001b[0m     \u001b[1;32mfor\u001b[0m \u001b[0mchunk\u001b[0m \u001b[1;32min\u001b[0m \u001b[0miterable\u001b[0m\u001b[1;33m:\u001b[0m\u001b[1;33m\u001b[0m\u001b[1;33m\u001b[0m\u001b[0m\n\u001b[1;32m--> 180\u001b[1;33m         \u001b[0mfp\u001b[0m\u001b[1;33m.\u001b[0m\u001b[0mwrite\u001b[0m\u001b[1;33m(\u001b[0m\u001b[0mchunk\u001b[0m\u001b[1;33m)\u001b[0m\u001b[1;33m\u001b[0m\u001b[1;33m\u001b[0m\u001b[0m\n\u001b[0m\u001b[0;32m    181\u001b[0m \u001b[1;33m\u001b[0m\u001b[0m\n\u001b[0;32m    182\u001b[0m \u001b[1;33m\u001b[0m\u001b[0m\n",
      "\u001b[1;32mD:\\Users\\Black\\Anaconda3\\envs\\PythonData2\\lib\\encodings\\cp1252.py\u001b[0m in \u001b[0;36mencode\u001b[1;34m(self, input, final)\u001b[0m\n\u001b[0;32m     17\u001b[0m \u001b[1;32mclass\u001b[0m \u001b[0mIncrementalEncoder\u001b[0m\u001b[1;33m(\u001b[0m\u001b[0mcodecs\u001b[0m\u001b[1;33m.\u001b[0m\u001b[0mIncrementalEncoder\u001b[0m\u001b[1;33m)\u001b[0m\u001b[1;33m:\u001b[0m\u001b[1;33m\u001b[0m\u001b[1;33m\u001b[0m\u001b[0m\n\u001b[0;32m     18\u001b[0m     \u001b[1;32mdef\u001b[0m \u001b[0mencode\u001b[0m\u001b[1;33m(\u001b[0m\u001b[0mself\u001b[0m\u001b[1;33m,\u001b[0m \u001b[0minput\u001b[0m\u001b[1;33m,\u001b[0m \u001b[0mfinal\u001b[0m\u001b[1;33m=\u001b[0m\u001b[1;32mFalse\u001b[0m\u001b[1;33m)\u001b[0m\u001b[1;33m:\u001b[0m\u001b[1;33m\u001b[0m\u001b[1;33m\u001b[0m\u001b[0m\n\u001b[1;32m---> 19\u001b[1;33m         \u001b[1;32mreturn\u001b[0m \u001b[0mcodecs\u001b[0m\u001b[1;33m.\u001b[0m\u001b[0mcharmap_encode\u001b[0m\u001b[1;33m(\u001b[0m\u001b[0minput\u001b[0m\u001b[1;33m,\u001b[0m\u001b[0mself\u001b[0m\u001b[1;33m.\u001b[0m\u001b[0merrors\u001b[0m\u001b[1;33m,\u001b[0m\u001b[0mencoding_table\u001b[0m\u001b[1;33m)\u001b[0m\u001b[1;33m[\u001b[0m\u001b[1;36m0\u001b[0m\u001b[1;33m]\u001b[0m\u001b[1;33m\u001b[0m\u001b[1;33m\u001b[0m\u001b[0m\n\u001b[0m\u001b[0;32m     20\u001b[0m \u001b[1;33m\u001b[0m\u001b[0m\n\u001b[0;32m     21\u001b[0m \u001b[1;32mclass\u001b[0m \u001b[0mIncrementalDecoder\u001b[0m\u001b[1;33m(\u001b[0m\u001b[0mcodecs\u001b[0m\u001b[1;33m.\u001b[0m\u001b[0mIncrementalDecoder\u001b[0m\u001b[1;33m)\u001b[0m\u001b[1;33m:\u001b[0m\u001b[1;33m\u001b[0m\u001b[1;33m\u001b[0m\u001b[0m\n",
      "\u001b[1;31mUnicodeEncodeError\u001b[0m: 'charmap' codec can't encode characters in position 1-5: character maps to <undefined>"
     ]
    }
   ],
   "source": [
    "# Date Range A: Normal Operating Period 22nd Dec 2017 - 25th Jan 2018\n",
    "# Date Range B: Shutdown Operating Period 22nd Dec 2018 - 25th Jan 2019\n",
    "# Time Block: 2pm - 8pm\n",
    "# Carrier: Delta Airlines (DL)\n",
    "# Airports: MCO, ATL\n",
    "\n",
    "historical_flights_response = requests.get(airport_history_query_url)\n",
    "historical_flights_json = historical_flights_response.json()\n",
    "textfile = 'Historic_Request_' + airport_code + '_' + departure_year + departure_month + departure_day + '_' + departure_hour + '.txt'\n",
    "print(textfile)\n",
    "with open(textfile, 'w') as f:\n",
    "  json.dump(historical_flights_json, f, ensure_ascii=False)\n",
    "\n",
    "\n",
    "\n",
    "# Data Fields: airport code, date, carrier code, \n",
    "# Filter by departureGateDelayMinutes, actualGateDeparture\n",
    "\n",
    "\n",
    "# Describe() for Date Range A\n",
    "# Describe() for Date Range B\n",
    "# Compare total number of flights, average flights per day\n",
    "\n",
    "# Plot average delay by hour in a random day during Date Range A\n",
    "# Plot average delay by hour in a random day during Date Range B\n"
   ]
  },
  {
   "cell_type": "code",
   "execution_count": null,
   "metadata": {},
   "outputs": [],
   "source": []
  }
 ],
 "metadata": {
  "anaconda-cloud": {},
  "kernelspec": {
   "display_name": "Python [conda env:PythonData2]",
   "language": "python",
   "name": "conda-env-PythonData2-py"
  },
  "language_info": {
   "codemirror_mode": {
    "name": "ipython",
    "version": 3
   },
   "file_extension": ".py",
   "mimetype": "text/x-python",
   "name": "python",
   "nbconvert_exporter": "python",
   "pygments_lexer": "ipython3",
   "version": "3.6.7"
  }
 },
 "nbformat": 4,
 "nbformat_minor": 1
}
