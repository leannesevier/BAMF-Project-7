{
 "cells": [
  {
   "cell_type": "code",
   "execution_count": null,
   "metadata": {},
   "outputs": [],
   "source": [
    "# Dependencies\n",
    "import numpy as np\n",
    "import pandas as pd\n",
    "import matplotlib.pyplot as plt\n",
    "import requests\n",
    "\n",
    "\n",
    "# Cirium API Key\n",
    "from config import api_key\n",
    "from config import app_ID\n",
    "\n"
   ]
  },
  {
   "cell_type": "code",
   "execution_count": null,
   "metadata": {},
   "outputs": [],
   "source": [
    "# Request Current Delays\n",
    "# example url: \"https://api.flightstats.com/flex/delayindex/rest/v1/json/airports/MCO?appId=XXXXXXXX&appKey=XXXXXXXX&codeType=IATA&classification=1&score=1\"\n",
    "\n",
    "base_url = \"https://api.flightstats.com/flex/delayindex/rest/v1/json/airports/\"\n",
    "airport_code = \"MCO\"\n",
    "app_IDcode = \"?appId=\"\n",
    "#app_ID\n",
    "app_KEYcode = \"&appKey=\"\n",
    "#api_key\n",
    "code_Type = \"&codeType=\"\n",
    "airport_code_type = \"IATA\"\n",
    "delay_class_code = \"&classification=\"\n",
    "delay_class = \"1\"\n",
    "delay_score_code = \"&score=\"\n",
    "delay_score = \"1\"\n",
    "\n",
    "airport_delay_query_url = base_url + airport_code + app_IDcode + app_ID + app_KEYcode + api_key + code_Type + airport_code_type + delay_class_code + delay_class + delay_score_code + delay_score\n",
    "\n",
    "print(airport_delay_query_url)\n"
   ]
  },
  {
   "cell_type": "code",
   "execution_count": null,
   "metadata": {},
   "outputs": [],
   "source": [
    "# Request Historic Data\n",
    "# example by airport url: \"https://api.flightstats.com/flex/flightstatus/historical/rest/v3/json/airport/status/MCO/dep/2019/1/22/9?codeType=IATA&utc=false&numHours=6\"\n",
    "# example by carrier url: \"https://api.flightstats.com/flex/flightstatus/historical/rest/v3/json/airport/status/ABQ/dep/2019/1/22/9?appId=XXXXXXXX&appKey=XXXXXXXX&utc=false&numHours=6&carrier=DL&codeType=IATA\"\n",
    "\n",
    "base_url = \"https://api.flightstats.com/flex/flightstatus/historical/rest/v3/json/airport/status/\"\n",
    "airport_code = \"MCO\"\n",
    "departure_code = \"dep/\"\n",
    "departure_year = \"2019\"\n",
    "breaker = \"/\"\n",
    "departure_month = \"1\"\n",
    "# breaker\n",
    "departure_day = \"22\"\n",
    "# breaker\n",
    "departure_hour = \"9\"\n",
    "code_Type = \"&codeType=\"\n",
    "airport_code_type = \"IATA\"\n",
    "utc_code = \"&utc=false\"\n",
    "hours_code = \"&numHours=\"\n",
    "hours = \"6\"\n",
    "carrier_code = \"&carrier=\"\n",
    "airline = \"DL\"\n",
    "\n",
    "airport_history_query_url = base_url + airport_code + breaker + departure_code + departure_year + breaker + departure_month + breaker + departure_day + breaker + departure_hour + code_Type + airport_code_type + utc_code + hours_code + hours + carrier_code + airline + app_IDcode + app_ID + app_KEYcode + api_key\n",
    "\n",
    "print(airport_history_query_url)"
   ]
  },
  {
   "cell_type": "code",
   "execution_count": null,
   "metadata": {},
   "outputs": [],
   "source": [
    "# Date Range A: Normal Operating Period 22nd Dec 2017 - 25th Jan 2018\n",
    "# Date Range B: Shutdown Operating Period 22nd Dec 2018 - 25th Jan 2019\n",
    "# Time Block: 2pm - 8pm\n",
    "# Carrier: Delta Airlines (DL)\n",
    "# Data Fields: airport code, date, carrier code, \n",
    "# Filter by departureGateDelayMinutes, actualGateDeparture\n",
    "\n",
    "\n",
    "# Describe() for Date Range A\n",
    "# Describe() for Date Range B\n",
    "# Compare total number of flights, average flights per day\n",
    "\n",
    "# Plot average delay by hour in a random day during Date Range A\n",
    "# Plot average delay by hour in a random day during Date Range B\n"
   ]
  }
 ],
 "metadata": {
  "anaconda-cloud": {},
  "kernelspec": {
   "display_name": "Python [conda env:PythonData2]",
   "language": "python",
   "name": "conda-env-PythonData2-py"
  },
  "language_info": {
   "codemirror_mode": {
    "name": "ipython",
    "version": 3
   },
   "file_extension": ".py",
   "mimetype": "text/x-python",
   "name": "python",
   "nbconvert_exporter": "python",
   "pygments_lexer": "ipython3",
   "version": "3.6.7"
  }
 },
 "nbformat": 4,
 "nbformat_minor": 1
}
